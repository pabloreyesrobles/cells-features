{
 "cells": [
  {
   "cell_type": "markdown",
   "metadata": {},
   "source": [
    "# Extractor de features para estudio de células de melanopsina\n",
    "**Importante:** se asume que el usuario tiene instalada la biblioteca *scipy* a través de su instalador o *Anaconda*. Además es necesario tener instaladas las librerías *spikelib* y *tqdm*, que puede ser descargada rápidamente descomentando el comando de la siguiente celda."
   ]
  },
  {
   "cell_type": "code",
   "execution_count": null,
   "metadata": {},
   "outputs": [],
   "source": [
    "#%pip install spikelib tqdm"
   ]
  },
  {
   "cell_type": "code",
   "execution_count": null,
   "metadata": {},
   "outputs": [],
   "source": [
    "from configparser import ConfigParser, ExtendedInterpolation\n",
    "\n",
    "import h5py\n",
    "import numpy as np\n",
    "import matplotlib.pyplot as plt\n",
    "import pandas as pd\n",
    "import seaborn as sns\n",
    "import os\n",
    "import gc\n",
    "\n",
    "from ipywidgets import interact, interact_manual, IntSlider, Dropdown, fixed\n",
    "from spikelib.utils import check_directory\n",
    "from sorting import get_features, plot_raster\n",
    "from scipy.io import savemat, loadmat\n",
    "from tqdm import tqdm\n",
    "\n",
    "%matplotlib inline"
   ]
  },
  {
   "cell_type": "markdown",
   "metadata": {},
   "source": [
    "## Adquisición de datos"
   ]
  },
  {
   "cell_type": "code",
   "execution_count": null,
   "metadata": {},
   "outputs": [],
   "source": [
    "exp_name = 'MR-261_t2'\n",
    "sorting_file = 'experiments/{}/{}.result.hdf5'.format(exp_name, exp_name)\n",
    "\n",
    "isi_bin = 2\n",
    "bins = np.linspace(0, isi_bin * 100, 101)"
   ]
  },
  {
   "cell_type": "markdown",
   "metadata": {},
   "source": [
    "## Intervalos\n",
    "Intervalos de los tiempos (en segundos) de los estímulos utilizados en el experimento. Pueden ser descritos a mano o importados desde un archivo csv en caso de existir, donde las columnas deben tener por nombre *start_event* y *end_event*, mientras que los índices corresponden al nombre del estímulo a elección del usuario."
   ]
  },
  {
   "cell_type": "code",
   "execution_count": null,
   "metadata": {},
   "outputs": [],
   "source": [
    "int_file = 'experiments/{}/{}-intervals.csv'.format(exp_name, exp_name)\n",
    "intervals = {}\n",
    "try:\n",
    "    df = pd.read_csv(int_file, index_col=0)\n",
    "    for idx in df.index:\n",
    "        intervals[idx] = tuple(df.loc[idx])\n",
    "    intervals['total'] = (df['start_event'][0], df['end_event'][-1])\n",
    "    \n",
    "except:\n",
    "    intervals['wn'] = (2.390, 1207.4)\n",
    "    intervals['spont'] = (1209.4, 1521.2)\n",
    "    intervals['chirp'] = (1526.8, 2188.4)\n",
    "    intervals['mchirp'] = (2359.323, 3629.5)\n",
    "    intervals['bflash'] = (3622.3, 3939.3)\n",
    "    intervals['gflash'] = (3940.2, 4236.6)\n",
    "    intervals['rflash'] = (4293.2, 4568.1)\n",
    "\n",
    "    # Drugs\n",
    "    intervals['d_chirp'] = (4641.5, 5342.1)\n",
    "    intervals['d_mchirp'] = (5346.1, 6774.7)\n",
    "    intervals['d_bflash'] = (6760.1, 7080.5)\n",
    "    intervals['d_gflash'] = (7079.8, 7419.5)\n",
    "    intervals['d_rflash'] = (7469.8, 7739.5)\n",
    "            \n",
    "start_point = np.array([v[0] for v in intervals.values()]) * 20000.0"
   ]
  },
  {
   "cell_type": "markdown",
   "metadata": {},
   "source": [
    "## Selección de células\n",
    "Se define la ruta al archivo con los índices numéricos de las células que se espera sean exploradas. Si la ruta está mal descrita, el nombre del archivo está erróneo o simplemente el archivo no existe se tomarán todas las células del archivo sorting.\n",
    "\n",
    "**Warning:** Se considera que el archivo posee índices desde i >= 1 y por tanto se les resta a todos -1 debido a que las células de los archivos hdf5 poseen índices i >= 0."
   ]
  },
  {
   "cell_type": "code",
   "execution_count": null,
   "metadata": {},
   "outputs": [],
   "source": [
    "# Modificar nombre del archivo\n",
    "index_file = 'experiments/{}/cell_index.txt'.format(exp_name)\n",
    "try:\n",
    "    file_index = open(index_file, 'r') \n",
    "    lines = file_index.readlines() \n",
    "    cell_index = [int(idx) - 1 for idx in lines]\n",
    "    cell_keys = ['temp_{}'.format(int(idx) - 1) for idx in lines]\n",
    "except FileNotFoundError:\n",
    "    with h5py.File(sorting_file, 'r') as f:\n",
    "        cell_keys = list(f['/spiketimes'].keys())"
   ]
  },
  {
   "cell_type": "code",
   "execution_count": null,
   "metadata": {},
   "outputs": [],
   "source": [
    "with h5py.File(sorting_file, 'r') as f:\n",
    "    features, isi = get_features(f)\n",
    "    print(features.shape)"
   ]
  },
  {
   "cell_type": "markdown",
   "metadata": {},
   "source": [
    "## Preparación de directorios de guardado"
   ]
  },
  {
   "cell_type": "code",
   "execution_count": null,
   "metadata": {},
   "outputs": [],
   "source": [
    "def check_exp_dir(exp):\n",
    "    exp_dir = 'results/{}'.format(exp)\n",
    "    if os.path.isdir('results') == False:\n",
    "        os.mkdir('results')\n",
    "    if os.path.isdir(exp_dir) == False:\n",
    "        os.mkdir(exp_dir)        \n",
    "    return exp_dir\n",
    "\n",
    "def check_isi_dir(exp, cell_key):\n",
    "    exp_dir = check_exp_dir(exp)\n",
    "    isi_dir = os.path.join(exp_dir, 'isi')\n",
    "    \n",
    "    if os.path.isdir(isi_dir) == False:\n",
    "        os.mkdir(isi_dir)\n",
    "    return isi_dir    \n",
    "\n",
    "def check_autocorr_dir(exp, cell_key):\n",
    "    exp_dir = check_exp_dir(exp)\n",
    "    ac_dir = os.path.join(exp_dir, 'autocorrelograms')\n",
    "    cell_ac_dir = os.path.join(ac_dir, cell_key)\n",
    "    \n",
    "    if os.path.isdir(ac_dir) == False:\n",
    "        os.mkdir(ac_dir)\n",
    "    if os.path.isdir(cell_ac_dir) == False:\n",
    "        os.mkdir(cell_ac_dir)        \n",
    "    return cell_ac_dir"
   ]
  },
  {
   "cell_type": "markdown",
   "metadata": {},
   "source": [
    "# Figuras\n",
    "## Histogramas ISI y firingrate\n",
    "Función que genera los gráficos de ISI para visualización y almacenamiento en disco. El objecto *fig* se entrega como argumento para evitar memory leaks durante iteraciones."
   ]
  },
  {
   "cell_type": "code",
   "execution_count": null,
   "metadata": {},
   "outputs": [],
   "source": [
    "def plot_isi(cell_key, fig, avg_sr=False):\n",
    "    if fig == None:\n",
    "        fig = plt.figure()\n",
    "    with h5py.File(sorting_file, 'r') as sorting:\n",
    "        spks = sorting['/spiketimes'][cell_key][...].flatten() / 20000.0\n",
    "        dur = sorting['/info/duration/'][...]\n",
    "        spike_rate = (spks.size / dur.astype(float)).flatten()[0]\n",
    "        \n",
    "        # Computing isi\n",
    "        dff = np.diff(spks) if spks.any() else 0\n",
    "        count, bins = np.histogram(dff, bins=np.arange(0, 1, 0.01))\n",
    "        \n",
    "        # Print spike_rate\n",
    "        if avg_sr == True:\n",
    "            print('Average spike rate: {} [spks/s]'.format(spike_rate))\n",
    "    \n",
    "    ax = fig.add_subplot()\n",
    "    ax.set_xticks([0, 0.25, 0.5, 0.75, 1])\n",
    "    ax.set_xticklabels([0, 250, 500, 750, 1000])\n",
    "    ax.set_xlabel('Time [ms]')\n",
    "    ax.hist(dff, bins=np.arange(0, 1, 0.01))\n",
    "    ax.set_title(cell_key)    "
   ]
  },
  {
   "cell_type": "markdown",
   "metadata": {},
   "source": [
    "## Visualizador de ISI por célula"
   ]
  },
  {
   "cell_type": "code",
   "execution_count": null,
   "metadata": {},
   "outputs": [],
   "source": [
    "interact(plot_isi,\n",
    "         cell_key=Dropdown(options=cell_keys),\n",
    "         fig=fixed(None),\n",
    "         avg_sr=fixed(True));"
   ]
  },
  {
   "cell_type": "markdown",
   "metadata": {},
   "source": [
    "## Guardar figuras de ISI\n",
    "Esta celda de código almacena en el directorio *results* las imágenes de ISI por célula."
   ]
  },
  {
   "cell_type": "code",
   "execution_count": null,
   "metadata": {},
   "outputs": [],
   "source": [
    "fig = plt.figure()\n",
    "for cell in tqdm(cell_keys):\n",
    "    plot_isi(cell, fig)\n",
    "    save_file = os.path.join(check_isi_dir(exp_name, cell_key),\n",
    "                             cell_key)\n",
    "    fig.savefig(save_file)\n",
    "    fig.clear()\n",
    "    fig.clf()\n",
    "    plt.close(fig)"
   ]
  },
  {
   "cell_type": "code",
   "execution_count": null,
   "metadata": {
    "scrolled": false
   },
   "outputs": [],
   "source": [
    "fig, ax = plt.subplots(2)\n",
    "ax[0].hist(features[:, 0], bins=100)\n",
    "ax[1].hist(features[:, 1], bins=100)\n",
    "ax[0].set(title='Firingrate', xlabel='firing rate [spk/s]', ylabel='frequency')\n",
    "ax[1].set(title='ISI', xlabel='bins [samples]', ylabel='frequency')\n",
    "fig.tight_layout()\n",
    "fig.savefig(os.path.join(check_exp_dir(exp_name),\n",
    "                         'isi_fr_histogram.png'))"
   ]
  },
  {
   "cell_type": "markdown",
   "metadata": {},
   "source": [
    "## Spike rates\n",
    "Función para obtener *avg spike rate* de una célula a lo largo del experimento para los distintos tipos de estímulos, que retorna un arreglo con los distintos valores obtenidos. Posee una opción para printear los resultados y que omite el retorno de variables."
   ]
  },
  {
   "cell_type": "code",
   "execution_count": null,
   "metadata": {},
   "outputs": [],
   "source": [
    "def get_spike_rates(cell_key, printable=False):\n",
    "    with h5py.File(sorting_file, 'r') as sorting:\n",
    "        spike_rates = {}\n",
    "        spks = sorting['/spiketimes'][cell_key][...].flatten() / 20000.0\n",
    "        dur = sorting['/info/duration/'][...]\n",
    "        \n",
    "        for key, val in intervals.items():\n",
    "            spikes = spks[(spks >= intervals[key][0])*(spks < intervals[key][1])]\n",
    "            spike_rates[key] = spikes.size / np.diff(intervals[key])[0]\n",
    "            \n",
    "            if printable == True:\n",
    "                print('{} spike rate: {:.4f} [spks/s]'.format(key, spike_rates[key])) \n",
    "\n",
    "        if printable == False:\n",
    "            data = np.array(list(spike_rates.values()))\n",
    "            return data"
   ]
  },
  {
   "cell_type": "markdown",
   "metadata": {},
   "source": [
    "## Visualizador de spike rates"
   ]
  },
  {
   "cell_type": "code",
   "execution_count": null,
   "metadata": {},
   "outputs": [],
   "source": [
    "interact(get_spike_rates,\n",
    "         cell_key=Dropdown(options=cell_keys),\n",
    "         printable=fixed(True));"
   ]
  },
  {
   "cell_type": "markdown",
   "metadata": {},
   "source": [
    "## Guardar datos de spike rates de todas las células"
   ]
  },
  {
   "cell_type": "code",
   "execution_count": null,
   "metadata": {},
   "outputs": [],
   "source": [
    "save_file = os.path.join(check_exp_dir(exp_name),\n",
    "                         'spike_rates.csv')\n",
    "\n",
    "data = np.zeros((len(cell_keys), len(intervals.items())))\n",
    "for idx, cell in enumerate(tqdm(cell_keys)):\n",
    "    data[idx, :] = get_spike_rates(cell, False)\n",
    "    \n",
    "df = pd.DataFrame(data, index=cell_keys, columns=intervals.keys())\n",
    "df.to_csv(save_file, mode='w')\n",
    "gc.collect();"
   ]
  },
  {
   "cell_type": "markdown",
   "metadata": {},
   "source": [
    "# Correlogramas\n",
    "Se definen las funciones para obtener autocorrelogramas y crosscorrelogramas.\n",
    "## Autocorrelogramas\n",
    "Función para obtener y graficar autocorrelograma. Es necesario indicar el \"nombre\" de la célula y sección del experimento."
   ]
  },
  {
   "cell_type": "code",
   "execution_count": null,
   "metadata": {},
   "outputs": [],
   "source": [
    "def get_autocorrelogram(cell_key, interval, width, lim):\n",
    "    num_bins = int(lim / width)\n",
    "        \n",
    "    with h5py.File(sorting_file, 'r') as sorting:\n",
    "        spks = sorting['/spiketimes'][cell_key][...].flatten() / 20000.0\n",
    "        \n",
    "        spikes = spks[(spks >= interval[0])*(spks < interval[1])]\n",
    "        \n",
    "        if spikes.shape[0] > 0:\n",
    "            # Auto-correlation\n",
    "            corr = np.zeros(num_bins)\n",
    "            for idx, _ in enumerate(spikes):\n",
    "                d = spikes - spikes[idx]\n",
    "                h, bins = np.histogram(d, bins=num_bins, range=(-lim, lim))\n",
    "                corr = corr + h\n",
    "            \n",
    "            corr /= np.diff(interval)\n",
    "            \n",
    "            # Normalización\n",
    "            #corr -= spikes.shape[0] ** 2 * width / (np.diff(intervals[int_key]) ** 2)\n",
    "            \n",
    "            # Bin 0 seteado a cero -> avg spike rate\n",
    "            corr[np.argmax(corr)] = 0\n",
    "        else:\n",
    "            corr = np.nan * np.empty(num_bins)\n",
    "            bins = np.nan * np.empty(num_bins + 1) # por cómo es retornado\n",
    "        \n",
    "        return bins[1:], corr\n",
    "    \n",
    "def plot_autocorrelogram(cell_key, interval, width, lim, fig):\n",
    "    bins, corr = get_autocorrelogram(cell_key, interval, width, lim)\n",
    "    \n",
    "    if fig == None:\n",
    "        fig = plt.figure()\n",
    "        \n",
    "    ax = fig.add_subplot()\n",
    "    ax.set_xticks([-lim, -lim * 0.5, 0, lim * 0.5, lim])\n",
    "    ax.set_xticklabels(np.array([-lim, -lim * 0.5, 0, lim * 0.5, lim]) * 1000)\n",
    "    ax.set_xlabel('Time [ms]')\n",
    "    ax.bar(bins, corr, width * 2)"
   ]
  },
  {
   "cell_type": "markdown",
   "metadata": {},
   "source": [
    "## Visualizador de autocorrelogramas"
   ]
  },
  {
   "cell_type": "code",
   "execution_count": null,
   "metadata": {},
   "outputs": [],
   "source": [
    "# Se definen el ancho de los bins y el límite del histograma en [s]\n",
    "width = 0.001\n",
    "lim = 0.2\n",
    "\n",
    "interact(plot_autocorrelogram,\n",
    "         cell_key=Dropdown(options=cell_keys),\n",
    "         interval=Dropdown(options=intervals.items()),\n",
    "         width=fixed(width),\n",
    "         lim=fixed(lim),\n",
    "         fig=fixed(None));"
   ]
  },
  {
   "cell_type": "markdown",
   "metadata": {},
   "source": [
    "## Guardar figuras de autocorrelogramas"
   ]
  },
  {
   "cell_type": "markdown",
   "metadata": {},
   "source": [
    "La siguiente celda itera por los identificadores de las células definidas por *cell_keys* en una celda de código anterior. Es necesario tener los intervalos de tiempo definidos en el diccionario *intervals*."
   ]
  },
  {
   "cell_type": "code",
   "execution_count": null,
   "metadata": {},
   "outputs": [],
   "source": [
    "# Se definen el ancho de los bins y el límite del histograma en [s]\n",
    "width = 0.001\n",
    "lim = 0.2\n",
    "\n",
    "# Crea directorio results y almacena las figuras de autocorrelogramas para cada célula del exp\n",
    "# y por intervalos de los tiempos de cada estímulo\n",
    "fig = plt.figure()\n",
    "\n",
    "for cell_key in tqdm(cell_keys):\n",
    "    for key, interval in intervals.items():        \n",
    "        plot_autocorrelogram(cell_key, interval, width, lim, fig)\n",
    "    \n",
    "        fig.savefig(os.path.join(check_autocorr_dir(exp_name, cell_key),\n",
    "                                 '{}.png'.format(key)))\n",
    "        fig.clf()\n",
    "        fig.clear()\n",
    "        plt.cla()\n",
    "        plt.close(fig)"
   ]
  },
  {
   "cell_type": "markdown",
   "metadata": {},
   "source": [
    "## Guardar autocorrelogramas en hdf5"
   ]
  },
  {
   "cell_type": "markdown",
   "metadata": {},
   "source": [
    "La siguiente celda realiza el cómputo de autocorrelogramas y los almacena en un archivo *hdf5* durante su ejecución. Esto evita que los cálculos sean almacenados en la memoria RAM y se guarden directamente en un archivo en el disco duro."
   ]
  },
  {
   "cell_type": "code",
   "execution_count": null,
   "metadata": {},
   "outputs": [],
   "source": [
    "# Se definen el ancho de los bins y el límite del histograma en [s]\n",
    "width = 0.001\n",
    "lim = 0.2\n",
    "\n",
    "output = os.path.join(check_exp_dir(exp_name), 'autocorrelogram.hdf5')\n",
    "for cell_key in tqdm(cell_keys):\n",
    "    for key, interval in intervals.items():\n",
    "        bins, corr = get_autocorrelogram(cell_key, interval, width, lim)\n",
    "        with h5py.File(output, 'a') as autocorr:\n",
    "            cell_grp = autocorr.require_group(cell_key)\n",
    "            if 'bins' not in cell_grp:\n",
    "                cell_grp.create_dataset('bins', bins.shape, data=bins)\n",
    "            else:\n",
    "                cell_grp['bins'][:] = bins\n",
    "                \n",
    "            if key not in cell_grp:\n",
    "                cell_grp.create_dataset(key, corr.shape, data=corr)\n",
    "            else:\n",
    "                cell_grp[key][:] = corr"
   ]
  },
  {
   "cell_type": "markdown",
   "metadata": {},
   "source": [
    "## Crosscorrelogramas"
   ]
  },
  {
   "cell_type": "code",
   "execution_count": null,
   "metadata": {},
   "outputs": [],
   "source": [
    "def get_crosscorrelogram(cell0_key, cell1_key, interval, width, lim):\n",
    "    num_bins = int(lim / width)\n",
    "        \n",
    "    with h5py.File(sorting_file, 'r') as sorting:\n",
    "        spks0 = sorting['/spiketimes'][cell0_key][...].flatten() / 20000.0\n",
    "        spks1 = sorting['/spiketimes'][cell1_key][...].flatten() / 20000.0\n",
    "        \n",
    "        spikes0 = spks0[(spks0 >= interval[0])*(spks0 < interval[1])]\n",
    "        spikes1 = spks1[(spks1 >= interval[0])*(spks1 < interval[1])]\n",
    "        \n",
    "        if spikes0.shape[0] > 0 and spikes1.shape[0] > 0:\n",
    "            # Cross-correlation\n",
    "            corr = np.zeros(num_bins)\n",
    "            for idx, _ in enumerate(tqdm(spikes1)):\n",
    "                d = spikes0 - spikes1[idx]\n",
    "                h, bins = np.histogram(d, bins=num_bins, range=(-lim, lim))\n",
    "                corr = corr + h\n",
    "            \n",
    "            corr /= np.diff(interval)\n",
    "                        \n",
    "            # Bin 0 seteado a cero -> avg spike rate\n",
    "            if cell0_key == cell1_key:\n",
    "                corr[np.argmax(corr)] = 0\n",
    "        else:\n",
    "            corr = np.nan * np.empty(num_bins)\n",
    "            bins = np.nan * np.empty(num_bins + 1) # por cómo es retornado\n",
    "        \n",
    "        return bins[1:], corr\n",
    "    \n",
    "def plot_crosscorrelogram(cell0_key, cell1_key, interval, width, lim, fig):\n",
    "    bins, corr = get_crosscorrelogram(cell0_key, cell1_key, interval, width, lim)\n",
    "    \n",
    "    if fig == None:\n",
    "        fig = plt.figure()\n",
    "    \n",
    "    ax = fig.add_subplot()\n",
    "    ax.set_xticks([-lim, -lim * 0.5, 0, lim * 0.5, lim])\n",
    "    ax.set_xticklabels(np.array([-lim, -lim * 0.5, 0, lim * 0.5, lim]) * 1000)\n",
    "    ax.set_xlabel('Time [ms]')\n",
    "    ax.bar(bins, corr, width * 2)\n",
    "    \n",
    "    del bins, corr\n",
    "    \n",
    "    return fig, ax"
   ]
  },
  {
   "cell_type": "markdown",
   "metadata": {},
   "source": [
    "## Visualizador de crosscorrelograma"
   ]
  },
  {
   "cell_type": "code",
   "execution_count": null,
   "metadata": {},
   "outputs": [],
   "source": [
    "interact(plot_crosscorrelogram,\n",
    "         cell0_key=Dropdown(options=cell_keys),\n",
    "         cell1_key=Dropdown(options=cell_keys),\n",
    "         interval=Dropdown(options=intervals.items()),\n",
    "         width=fixed(width),\n",
    "         lim=fixed(lim),\n",
    "         fig=fixed(None));"
   ]
  },
  {
   "cell_type": "markdown",
   "metadata": {},
   "source": [
    "## ISI clustermap"
   ]
  },
  {
   "cell_type": "code",
   "execution_count": null,
   "metadata": {
    "scrolled": false
   },
   "outputs": [],
   "source": [
    "isi_max = isi.max(axis=1, )\n",
    "isi_max[isi_max==0] = 1\n",
    "\n",
    "save_file = os.path.join(check_exp_dir(exp_name),\n",
    "                         'clustermap.png')\n",
    "\n",
    "g = sns.clustermap(isi/isi_max[:, None], col_cluster=False, figsize=(10, 10))\n",
    "g.savefig(save_file)"
   ]
  },
  {
   "cell_type": "markdown",
   "metadata": {},
   "source": [
    "## Raster plot"
   ]
  },
  {
   "cell_type": "markdown",
   "metadata": {},
   "source": [
    "Se genera Raster plot y se almacena en el directorio './results'.\n",
    "\n",
    "Si se definió *cell_index* en celdas de código anteriores se incluirán en el raster solo aquellos índices que se encuentran en esta variable, en caso contrario se recomienda modificar *range_view* para el rango de las células que se desean graficar al comienzo de la siguiente celda"
   ]
  },
  {
   "cell_type": "code",
   "execution_count": null,
   "metadata": {
    "scrolled": false
   },
   "outputs": [],
   "source": [
    "# Si no existe cell_index, se define un rango de células para\n",
    "# incluir en el raster\n",
    "range_view = [0, 40]\n",
    "\n",
    "try:\n",
    "    cell_index\n",
    "    if cell_index != None:\n",
    "        range_view = None\n",
    "except:\n",
    "    cell_index = None\n",
    "    \n",
    "save_file = os.path.join(check_exp_dir(exp_name),\n",
    "                         'rasterplot.png')\n",
    "save_pdf = os.path.join(check_exp_dir(exp_name),\n",
    "                        'rasterplot.pdf')\n",
    "\n",
    "with h5py.File(sorting_file, 'r') as f:\n",
    "    fig, ax = plot_raster(\n",
    "        sorting=f,\n",
    "        range_view=range_view,\n",
    "        idx_units=cell_index,\n",
    "        protocols_points=start_point,\n",
    "        figsize=(10, 10),\n",
    "    )\n",
    "    ax.set(title='Raster {}'.format(exp_name))\n",
    "    fig.savefig(save_file)\n",
    "    fig.savefig(save_pdf)"
   ]
  },
  {
   "cell_type": "code",
   "execution_count": null,
   "metadata": {},
   "outputs": [],
   "source": []
  }
 ],
 "metadata": {
  "kernelspec": {
   "display_name": "Python 3",
   "language": "python",
   "name": "python3"
  },
  "language_info": {
   "codemirror_mode": {
    "name": "ipython",
    "version": 3
   },
   "file_extension": ".py",
   "mimetype": "text/x-python",
   "name": "python",
   "nbconvert_exporter": "python",
   "pygments_lexer": "ipython3",
   "version": "3.8.0"
  },
  "toc": {
   "base_numbering": 1,
   "nav_menu": {},
   "number_sections": true,
   "sideBar": true,
   "skip_h1_title": false,
   "title_cell": "Table of Contents",
   "title_sidebar": "Contents",
   "toc_cell": false,
   "toc_position": {},
   "toc_section_display": true,
   "toc_window_display": false
  },
  "varInspector": {
   "cols": {
    "lenName": 16,
    "lenType": 16,
    "lenVar": 40
   },
   "kernels_config": {
    "python": {
     "delete_cmd_postfix": "",
     "delete_cmd_prefix": "del ",
     "library": "var_list.py",
     "varRefreshCmd": "print(var_dic_list())"
    },
    "r": {
     "delete_cmd_postfix": ") ",
     "delete_cmd_prefix": "rm(",
     "library": "var_list.r",
     "varRefreshCmd": "cat(var_dic_list()) "
    }
   },
   "types_to_exclude": [
    "module",
    "function",
    "builtin_function_or_method",
    "instance",
    "_Feature"
   ],
   "window_display": false
  }
 },
 "nbformat": 4,
 "nbformat_minor": 2
}
