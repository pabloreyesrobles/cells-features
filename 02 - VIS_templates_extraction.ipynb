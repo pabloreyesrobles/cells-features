{
 "cells": [
  {
   "cell_type": "markdown",
   "metadata": {},
   "source": [
    "# Extractor de features de templates"
   ]
  },
  {
   "cell_type": "code",
   "execution_count": 2,
   "metadata": {},
   "outputs": [
    {
     "data": {
      "text/plain": [
       "['../../config.ini']"
      ]
     },
     "execution_count": 2,
     "metadata": {},
     "output_type": "execute_result"
    }
   ],
   "source": [
    "from configparser import ConfigParser, ExtendedInterpolation\n",
    "\n",
    "import h5py\n",
    "import numpy as np\n",
    "import matplotlib.pyplot as plt\n",
    "import pandas as pd\n",
    "import os\n",
    "import copy\n",
    "import gc\n",
    "\n",
    "from matplotlib import gridspec\n",
    "from tqdm import tqdm\n",
    "from scipy.signal import find_peaks, butter, filtfilt\n",
    "from ipywidgets import interact, interact_manual, IntSlider, Dropdown, fixed\n",
    "\n",
    "%matplotlib inline\n",
    "\n",
    "config = ConfigParser(interpolation=ExtendedInterpolation())\n",
    "config.read('../../config.ini')"
   ]
  },
  {
   "cell_type": "markdown",
   "metadata": {},
   "source": [
    "## Adquisición de datos y parámetros generales"
   ]
  },
  {
   "cell_type": "code",
   "execution_count": 3,
   "metadata": {},
   "outputs": [],
   "source": [
    "# Parámetros generales\n",
    "samplerate = 20000.0\n",
    "\n",
    "exp_name = 'MR-262'\n",
    "sorting_file = 'MR-262/MR-262.result.hdf5'\n",
    "templates_file = 'MR-262/MR-262.templates-1.hdf5'"
   ]
  },
  {
   "cell_type": "markdown",
   "metadata": {},
   "source": [
    "## Preparación de directorios de guardado"
   ]
  },
  {
   "cell_type": "code",
   "execution_count": 4,
   "metadata": {},
   "outputs": [],
   "source": [
    "def check_exp_dir(exp):\n",
    "    exp_dir = 'results/{}'.format(exp)\n",
    "    if os.path.isdir('results') == False:\n",
    "        os.mkdir('results')\n",
    "    if os.path.isdir(exp_dir) == False:\n",
    "        os.mkdir(exp_dir)        \n",
    "    return exp_dir\n",
    "\n",
    "def check_templates_dir(exp):\n",
    "    exp_dir = check_exp_dir(exp)\n",
    "    temp_dir = os.path.join(exp_dir, 'templates')\n",
    "    \n",
    "    if os.path.isdir(temp_dir) == False:\n",
    "        os.mkdir(temp_dir)     \n",
    "    return temp_dir"
   ]
  },
  {
   "cell_type": "markdown",
   "metadata": {},
   "source": [
    "## Definición de función para extracción de features"
   ]
  },
  {
   "cell_type": "code",
   "execution_count": 5,
   "metadata": {},
   "outputs": [],
   "source": [
    "def get_template(temp):\n",
    "    # Se busca el peak más negativo o positivo y es seleccionado como el template a analizar\n",
    "    # Ojo a las células al revés ej: 826 y 827\n",
    "    if np.max(-temp) >= np.max(temp):\n",
    "        temp /= np.max(-temp)\n",
    "    else:\n",
    "        temp /= -np.max(temp)\n",
    "        \n",
    "    pos_peak_thr = 0.05\n",
    "    neg_peak_thr = 0.5\n",
    "    cross_thr = -0.5\n",
    "\n",
    "    neg_peaks,_ = find_peaks(-temp, height=neg_peak_thr)\n",
    "\n",
    "    p_min = neg_peaks[np.argmin(temp[neg_peaks])]\n",
    "\n",
    "    # Extract most negative peak template\n",
    "    if p_min < 50:\n",
    "        p_temp = np.concatenate((np.zeros(50 - p_min), temp[:p_min + 51]))\n",
    "    elif p_min + 50 >= len(temp):\n",
    "        p_temp = np.concatenate((temp[p_min - 50:], np.zeros(50 - (len(temp) - p_min) + 1)))\n",
    "    else:\n",
    "        p_temp = temp[p_min - 50 : p_min + 51]\n",
    "    \n",
    "    # Se almacena center_frame en los features para visualización\n",
    "    center_frame = p_min\n",
    "    p_min = 50\n",
    "    \n",
    "    # Se filtra el template para encontrar los peaks de hombros\n",
    "    b, a = butter(2, 0.4)\n",
    "    filtered = filtfilt(b, a, p_temp)\n",
    "\n",
    "    # Peaks positivos\n",
    "    try:\n",
    "        pre_peaks0, _ = find_peaks(filtered[:50], height=pos_peak_thr)\n",
    "        pp0 = pre_peaks0[np.argmax(filtered[pre_peaks0])]\n",
    "        \n",
    "        sh_time0 = (pp0 - 50) / 20.0\n",
    "        sh_amp0 = filtered[pp0]\n",
    "    except ValueError:\n",
    "        pp0 = np.nan\n",
    "        sh_time0 = np.nan\n",
    "        sh_amp0 = np.nan\n",
    "    \n",
    "    try:\n",
    "        pre_peaks1, _ = find_peaks(filtered[51:], height=pos_peak_thr)\n",
    "        pre_peaks1 += 51\n",
    "        pp1 = pre_peaks1[np.argmax(filtered[pre_peaks1])]\n",
    "        \n",
    "        sh_time1 = (pp1 - 50) / 20.0\n",
    "        sh_amp1 = filtered[pp1]\n",
    "    except ValueError:\n",
    "        pp1 = np.nan\n",
    "        sh_time1 = np.nan\n",
    "        sh_amp1 = np.nan\n",
    "\n",
    "    # Cruce por -0.5 del potencial. Regresión lineal para estimar el frame \"exacto\"\n",
    "    pc0 = np.argmax(p_temp[:51] < cross_thr) \n",
    "    pc1 = np.argmax(p_temp[51:] > cross_thr) + 51\n",
    "\n",
    "    m0 = p_temp[pc0] - p_temp[pc0 - 1]\n",
    "    a0 = p_temp[pc0] - m0 * pc0\n",
    "\n",
    "    m1 = p_temp[pc1] - p_temp[pc1 - 1]\n",
    "    a1 = p_temp[pc1] - m1 * pc1\n",
    "\n",
    "    # \"Exact\" crossing frame.\n",
    "    _pc0 = (-0.5 - a0) / m0\n",
    "    _pc1 = (-0.5 - a1) / m1\n",
    "\n",
    "    # Referencias de tiempo desde el peak negativo\n",
    "    # (Frame_cross - Frame_negative) / 20000.0 * 1000.0 [ms]\n",
    "    SNR = 10 * np.log10(np.max(np.abs(p_temp)) / np.mean(np.abs(p_temp)))    \n",
    "\n",
    "    cross_time0 = (_pc0 - 50) / 20.0\n",
    "    cross_time1 = (_pc1 - 50) / 20.0\n",
    "    cross_diff = cross_time1 - cross_time0\n",
    "    \n",
    "    temp_feat = {}\n",
    "    temp_feat['temp'] = p_temp\n",
    "    temp_feat['center_frame'] = center_frame\n",
    "    temp_feat['feat_frames'] = (pp0, pp1, _pc0, _pc1)\n",
    "    temp_feat['sh_amp0'] = sh_amp0\n",
    "    temp_feat['sh_amp1'] = sh_amp1\n",
    "    temp_feat['sh_time0'] = sh_time0\n",
    "    temp_feat['sh_time1'] = sh_time1\n",
    "    temp_feat['cross_time0'] = cross_time0\n",
    "    temp_feat['cross_time1'] = cross_time1\n",
    "    temp_feat['cross_diff'] = cross_diff\n",
    "    temp_feat['SNR'] = SNR\n",
    "    \n",
    "    del p_temp, center_frame, pp0, pp1, _pc0, _pc1, pre_peaks0, pre_peaks1\n",
    "    del sh_amp0, sh_amp1, sh_time0, sh_time1, cross_time0, cross_time1, cross_diff, SNR\n",
    "    del b, a, filtered, neg_peaks, p_min\n",
    "    \n",
    "    return temp_feat"
   ]
  },
  {
   "cell_type": "markdown",
   "metadata": {},
   "source": [
    "## Función de gráficos de templates por célula"
   ]
  },
  {
   "cell_type": "code",
   "execution_count": 6,
   "metadata": {},
   "outputs": [],
   "source": [
    "def plot_template(temp, resp, index):\n",
    "    save_file = os.path.join(check_templates_dir(exp_name),\n",
    "                             '{}.png'.format(index))\n",
    "    \n",
    "    # Plotting every template of the cell\n",
    "    fig = plt.figure(figsize=(6, 6)) \n",
    "    gs = gridspec.GridSpec(2, 1, height_ratios=[1, 3]) \n",
    "\n",
    "    ax0 = plt.subplot(gs[0])\n",
    "    \n",
    "    p_min = resp['center_frame']\n",
    "    \n",
    "    ax0.plot(temp)\n",
    "    ax0.plot(p_min, temp[p_min], 'o')\n",
    "    ax0.axvspan(p_min - 50, p_min + 50, alpha=0.3, color='green')\n",
    "    ax0.set_title('{}, {} templates'.format(exp_name, index))\n",
    "        \n",
    "    ax1 = plt.subplot(gs[1])\n",
    "    # Se grafica el template y el peak del potencial de acción\n",
    "    ax1.plot(resp['temp'])\n",
    "    ax1.plot(50, resp['temp'][50], 'o')\n",
    "\n",
    "    # Se grafica peaks positivos\n",
    "    ax1.plot(resp['feat_frames'][0], resp['sh_amp0'], 'o', color='green')\n",
    "    ax1.plot(resp['feat_frames'][1], resp['sh_amp1'], 'o', color='green')\n",
    "\n",
    "    # Se grafica el frame calculado para el cruce por -0.5 del potencial normalizado\n",
    "    ax1.plot(resp['feat_frames'][2], -0.5, 'o', color='purple')\n",
    "    ax1.plot(resp['feat_frames'][3], -0.5, 'o', color='purple')\n",
    "    ax1.set_title('Template selected')\n",
    "    plt.tight_layout()\n",
    "    \n",
    "    return fig, gs"
   ]
  },
  {
   "cell_type": "markdown",
   "metadata": {},
   "source": [
    "## Extractor de features y almacenamiento de figuras\n",
    "Esta celda de código genera un .csv con los features extraídos de los templates por célula, además de almacenar las figuras de templates en la carpeta ./results"
   ]
  },
  {
   "cell_type": "code",
   "execution_count": 7,
   "metadata": {},
   "outputs": [
    {
     "name": "stderr",
     "output_type": "stream",
     "text": [
      " 13%|█▎        | 280/2106 [01:00<06:35,  4.61it/s]\n"
     ]
    },
    {
     "ename": "KeyboardInterrupt",
     "evalue": "",
     "output_type": "error",
     "traceback": [
      "\u001b[0;31m---------------------------------------------------------------------------\u001b[0m",
      "\u001b[0;31mKeyboardInterrupt\u001b[0m                         Traceback (most recent call last)",
      "\u001b[0;32m<ipython-input-7-f2d3093c8c90>\u001b[0m in \u001b[0;36m<module>\u001b[0;34m\u001b[0m\n\u001b[1;32m     41\u001b[0m     \u001b[0;32mdel\u001b[0m \u001b[0mtemp\u001b[0m\u001b[0;34m,\u001b[0m \u001b[0mtemp_feat\u001b[0m\u001b[0;34m,\u001b[0m \u001b[0mdf\u001b[0m\u001b[0;34m,\u001b[0m \u001b[0mgs\u001b[0m\u001b[0;34m\u001b[0m\u001b[0;34m\u001b[0m\u001b[0m\n\u001b[1;32m     42\u001b[0m \u001b[0;34m\u001b[0m\u001b[0m\n\u001b[0;32m---> 43\u001b[0;31m     \u001b[0mgc\u001b[0m\u001b[0;34m.\u001b[0m\u001b[0mcollect\u001b[0m\u001b[0;34m(\u001b[0m\u001b[0;34m)\u001b[0m\u001b[0;34m\u001b[0m\u001b[0;34m\u001b[0m\u001b[0m\n\u001b[0m\u001b[1;32m     44\u001b[0m \u001b[0;34m\u001b[0m\u001b[0m\n",
      "\u001b[0;31mKeyboardInterrupt\u001b[0m: "
     ]
    }
   ],
   "source": [
    "# Variables para posterior visualización\n",
    "cell_indexes = []\n",
    "\n",
    "with h5py.File(templates_file, 'r') as pot:\n",
    "    #spikes = spks['/spiketimes/'+key][...].flatten()/samplerate\n",
    "    temp_x = pot['temp_x'][:].ravel()\n",
    "    temp_y = pot['temp_y'][:].ravel() # Cell-identifier\n",
    "    temp_data = pot['temp_data'][:].ravel()\n",
    "    \n",
    "cell_indexes = np.linspace(0, temp_y[-1], temp_y[-1] + 1, dtype=int)\n",
    "\n",
    "indexes = ['temp_{}'.format(i) for i in cell_indexes]            \n",
    "columns = ['sh_amp0', 'sh_amp1', 'sh_time0', 'sh_time1',\n",
    "           'cross_time0', 'cross_time1', 'cross_diff', 'SNR']\n",
    "\n",
    "save_file = os.path.join(check_exp_dir(exp_name), 'temp_features.csv')\n",
    "\n",
    "df = pd.DataFrame(columns=columns)\n",
    "df.to_csv(save_file, mode='w')\n",
    "\n",
    "for idx, cell in tqdm(zip(cell_indexes, indexes), total=len(indexes)):\n",
    "    temp = temp_data[temp_y == idx]\n",
    "    temp_feat = get_template(temp)\n",
    "\n",
    "    # Guardar figuras de templates\n",
    "    fig, gs = plot_template(temp, temp_feat, cell)\n",
    "\n",
    "    # Guardar features en csv\n",
    "    temp_feat.pop('temp')\n",
    "    temp_feat.pop('center_frame')\n",
    "    temp_feat.pop('feat_frames')\n",
    "\n",
    "    df = pd.DataFrame([temp_feat], columns=columns, index=[cell])\n",
    "    \n",
    "    with open(save_file, \"a\") as output:\n",
    "        df.to_csv(output, header=False)\n",
    "\n",
    "    plt.clf()\n",
    "    plt.cla()\n",
    "    plt.close(fig)\n",
    "    del temp, temp_feat, df, gs\n",
    "\n",
    "    gc.collect()\n",
    "        "
   ]
  },
  {
   "cell_type": "markdown",
   "metadata": {},
   "source": [
    "## Visualizador de templates\n",
    "Una vez ejecutada la celda anterior se puede visualizar los templates de células para selección manual y descarte de templates inválidos. Otros criterios de descarte automático pueden ser incorporados al script extractor en el futuro"
   ]
  },
  {
   "cell_type": "code",
   "execution_count": 8,
   "metadata": {},
   "outputs": [
    {
     "data": {
      "application/vnd.jupyter.widget-view+json": {
       "model_id": "31874c49971c4c6e99e3b89378e3e831",
       "version_major": 2,
       "version_minor": 0
      },
      "text/plain": [
       "interactive(children=(Dropdown(description='cell_key', options=('temp_0', 'temp_1', 'temp_2', 'temp_3', 'temp_…"
      ]
     },
     "metadata": {},
     "output_type": "display_data"
    }
   ],
   "source": [
    "def vis_template(cell_key):\n",
    "    cell = vis_temp[cell_key]\n",
    "    plot_template(cell[0], cell[1], cell_key)\n",
    "\n",
    "interact(vis_template,\n",
    "         cell_key=Dropdown(options=vis_temp.keys()));"
   ]
  },
  {
   "cell_type": "code",
   "execution_count": null,
   "metadata": {},
   "outputs": [],
   "source": []
  }
 ],
 "metadata": {
  "kernelspec": {
   "display_name": "Python 3",
   "language": "python",
   "name": "python3"
  },
  "language_info": {
   "codemirror_mode": {
    "name": "ipython",
    "version": 3
   },
   "file_extension": ".py",
   "mimetype": "text/x-python",
   "name": "python",
   "nbconvert_exporter": "python",
   "pygments_lexer": "ipython3",
   "version": "3.7.8"
  }
 },
 "nbformat": 4,
 "nbformat_minor": 4
}
